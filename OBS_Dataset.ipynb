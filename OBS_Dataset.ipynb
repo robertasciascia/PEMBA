{
 "cells": [
  {
   "cell_type": "code",
   "execution_count": 1,
   "metadata": {},
   "outputs": [],
   "source": [
    "import numpy as np\n",
    "import xarray as xr\n",
    "import pandas as pd\n",
    "import netCDF4 as nc\n",
    "import matplotlib.pyplot as plt\n",
    "import sys\n",
    "import numpy as np\n",
    "import matplotlib as mpl\n",
    "from mpl_toolkits.basemap import Basemap\n",
    "import time\n",
    "from datetime import datetime\n",
    "from scipy import interpolate\n",
    "import cartopy.crs as ccrs\n",
    "import pyroms"
   ]
  },
  {
   "cell_type": "markdown",
   "metadata": {},
   "source": [
    "GRID"
   ]
  },
  {
   "cell_type": "code",
   "execution_count": 2,
   "metadata": {},
   "outputs": [],
   "source": [
    "mask_url = 'https://dap.ceda.ac.uk/thredds/dodsC/bodc/UOX220077/WINDS-M/supplementary_files/croco_grd.nc'\n",
    "ds_mask = xr.open_dataset(mask_url)"
   ]
  },
  {
   "cell_type": "code",
   "execution_count": 3,
   "metadata": {},
   "outputs": [],
   "source": [
    "clipped_mask_one = ds_mask.sel(eta_rho=slice(680, 986), xi_rho=slice(150, 451),\n",
    "                               eta_psi=slice(680, 986), xi_psi=slice(150, 451),\n",
    "                               eta_u=slice(680, 986), xi_u=slice(150, 451),\n",
    "                               eta_v=slice(680, 986), xi_v=slice(150, 451)) # clipping the domain\n",
    "\n",
    "clipped_mask = clipped_mask_one.drop_vars(['xl','el','depthmin','depthmax', 'spherical', 'angle', 'h', 'hraw', 'alpha',\n",
    "                                 'f','pm','pn','dndx','dmde','x_rho','x_u','x_v','x_psi','y_rho',\n",
    "                                  'y_v','y_u', 'y_psi',   \n",
    "                                ])"
   ]
  },
  {
   "cell_type": "code",
   "execution_count": 5,
   "metadata": {},
   "outputs": [],
   "source": [
    "clipped_mask.to_netcdf('/mnt/iscsi2/OceanParcels/InputObsDom/WINDS_as_NEMO_mesh_prof.nc')"
   ]
  },
  {
   "cell_type": "markdown",
   "metadata": {},
   "source": [
    "DATA HALF HOUR VELOCITY FOR THE CASE OF APRIL"
   ]
  },
  {
   "cell_type": "code",
   "execution_count": 64,
   "metadata": {},
   "outputs": [],
   "source": [
    "base_url = 'https://dap.ceda.ac.uk/thredds/dodsC/bodc/UOX220077/WINDS-M/1999/WINDS-M_SFC_1999.nc'\n",
    "ds_complete = xr.open_dataset(base_url)"
   ]
  },
  {
   "cell_type": "code",
   "execution_count": 65,
   "metadata": {},
   "outputs": [],
   "source": [
    "# Dropping unnecessary variables\n",
    "dropping_variables = ds_complete.drop_vars(['s_w','hc','s_rho',\n",
    "                                 'theta_s','theta_b','Tcline','Vtransform','h','f','pm','pn','lon_rho','lat_rho',\n",
    "                                  'angle', 'Cs_r','sc_r','Cs_w','lon_u','lon_v','lat_u', 'lat_v',\n",
    "                                  'sc_w'])\n",
    "\n",
    "# Clipping considering only the domain of interest for the thesis case study\n",
    "clipped_domain = dropping_variables.sel(y_rho=slice(680, 986), x_rho=slice(150, 451),\n",
    "                          y_u=slice(680, 986), x_u=slice(150, 451),\n",
    "                          y_v=slice(680, 986), x_v=slice(150, 451))\n",
    "\n",
    "# Considering only 70 + 30 days from 1st April (so 100*24*2+1) values of 'APRIL', so from 01-04-1997 to 09-07-1997, so from 4320 to 4320+4801\n",
    "days100_from_april_1999 = clipped_domain.isel(time_counter=slice(4320, 4320+4801))"
   ]
  },
  {
   "cell_type": "code",
   "execution_count": 66,
   "metadata": {},
   "outputs": [],
   "source": [
    "days100_from_april_1999_velocity_u = days100_from_april_1999.drop_vars(['nav_lon_v', 'nav_lat_v', 'v_surf', 'time'])\n",
    "days100_from_april_1999_velocity_v = days100_from_april_1999.drop_vars(['nav_lon_u', 'nav_lat_u', 'u_surf', 'time'])"
   ]
  },
  {
   "cell_type": "code",
   "execution_count": 67,
   "metadata": {},
   "outputs": [],
   "source": [
    "chunks = {'time_counter': 100, 'y_u': 306, 'x_u': 301}\n",
    "days100_from_april_1999_velocity_u_chunked = days100_from_april_1999_velocity_u.chunk(chunks)\n",
    "days100_from_april_1999_velocity_u_chunked.to_netcdf(\"/mnt/iscsi2/OceanParcels/InputObsDom/days100_from_april_1999_velocity_u_OK.nc\")"
   ]
  },
  {
   "cell_type": "code",
   "execution_count": 68,
   "metadata": {},
   "outputs": [],
   "source": [
    "chunks = {'time_counter': 100, 'y_v': 306, 'x_v': 301}\n",
    "days100_from_april_1999_velocity_v_chunked = days100_from_april_1999_velocity_v.chunk(chunks)\n",
    "days100_from_april_1999_velocity_v_chunked.to_netcdf(\"/mnt/iscsi2/OceanParcels/InputObsDom/days100_from_april_1999_velocity_v_OK.nc\")"
   ]
  }
 ],
 "metadata": {
  "language_info": {
   "name": "python"
  }
 },
 "nbformat": 4,
 "nbformat_minor": 2
}
