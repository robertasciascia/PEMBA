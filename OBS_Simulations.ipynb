{
 "cells": [
  {
   "cell_type": "markdown",
   "metadata": {},
   "source": [
    "Notebook to handle with the use of OceanParcels to run a simulation with different setting of parameters"
   ]
  },
  {
   "cell_type": "code",
   "execution_count": 16,
   "metadata": {},
   "outputs": [],
   "source": [
    "import xarray as xr\n",
    "import pandas as pd\n",
    "import numpy as np\n",
    "from datetime import timedelta\n",
    "from parcels import FieldSet, Field, ParticleSet, Variable, JITParticle, AdvectionRK4, Kernel"
   ]
  },
  {
   "cell_type": "code",
   "execution_count": 17,
   "metadata": {},
   "outputs": [],
   "source": [
    "# This passage only to see in detail how the three datasets are made, unnecessary for the fieldset step\n",
    "days100_from_april_1997_velocity_u_OK = xr.open_dataset(\"/mnt/iscsi2/OceanParcels/InputObsDom/days100_from_april_1997_velocity_u_OK.nc\")\n",
    "days100_from_april_1997_velocity_v_OK = xr.open_dataset(\"/mnt/iscsi2/OceanParcels/InputObsDom/days100_from_april_1997_velocity_v_OK.nc\")"
   ]
  },
  {
   "cell_type": "markdown",
   "metadata": {},
   "source": [
    "### FieldSet"
   ]
  },
  {
   "cell_type": "markdown",
   "metadata": {},
   "source": [
    "NOTE: assign the correct path of the .nc files. Here in this way because they are in the same folder"
   ]
  },
  {
   "cell_type": "code",
   "execution_count": 18,
   "metadata": {},
   "outputs": [],
   "source": [
    "ufiles = \"/mnt/iscsi2/OceanParcels/InputObsDom/days100_from_april_1997_velocity_u_OK.nc\"\n",
    "vfiles = \"/mnt/iscsi2/OceanParcels/InputObsDom/days100_from_april_1997_velocity_v_OK.nc\"\n",
    "mesh_mask = \"/mnt/iscsi2/OceanParcels/InputObsDom/WINDS_as_NEMO_mesh_prof.nc\"\n",
    "coords = xr.open_dataset(mesh_mask, decode_times=False)"
   ]
  },
  {
   "cell_type": "markdown",
   "metadata": {},
   "source": [
    "### FieldSet"
   ]
  },
  {
   "cell_type": "markdown",
   "metadata": {},
   "source": [
    "Following \"from_nemo\" method. It's possible to use different methods."
   ]
  },
  {
   "cell_type": "code",
   "execution_count": 19,
   "metadata": {},
   "outputs": [],
   "source": [
    "filenames = {\n",
    "    \"U\": {\"lon\": mesh_mask, \"lat\": mesh_mask, \"data\": ufiles},\n",
    "    \"V\": {\"lon\": mesh_mask, \"lat\": mesh_mask, \"data\": vfiles},\n",
    "}\n",
    "\n",
    "variables = {\"U\": \"u_surf\", \"V\": \"v_surf\"}\n",
    "\n",
    "dimensions = {\n",
    "    \"U\": {\"lon\": \"lon_psi\", \"lat\": \"lat_psi\", \"time\": \"time_counter\"},\n",
    "    \"V\": {\"lon\": \"lon_psi\", \"lat\": \"lat_psi\", \"time\": \"time_counter\"},\n",
    "}\n",
    "\n",
    "fieldset = FieldSet.from_nemo(filenames, variables, dimensions, netcdf_decodewarning=False)"
   ]
  },
  {
   "cell_type": "markdown",
   "metadata": {},
   "source": [
    "### Avoiding errors close to boundaries"
   ]
  },
  {
   "cell_type": "markdown",
   "metadata": {},
   "source": [
    "To tell Parcels that particles that leave the domain need to be deleted, it's convenient to use a Recovery Kernel, which will be invoked when a particle encounters an ErrorOutOfBounds error, as suggested by Erik van Sebille (https://github.com/OceanParcels/parcels/discussions/1086#discussioncomment-1457212) and in a way similar to this tutorial: https://docs.oceanparcels.org/en/latest/examples/tutorial_kernelloop.html#Working-with-Status-Codes"
   ]
  },
  {
   "cell_type": "code",
   "execution_count": 20,
   "metadata": {},
   "outputs": [],
   "source": [
    "def DeleteParticle(particle, fieldset, time):\n",
    "    if particle.state == StatusCode.ErrorOutOfBounds:\n",
    "        particle.delete()"
   ]
  },
  {
   "cell_type": "markdown",
   "metadata": {},
   "source": [
    "### Releases initialisation"
   ]
  },
  {
   "cell_type": "code",
   "execution_count": 21,
   "metadata": {},
   "outputs": [],
   "source": [
    "random_latitudes=np.load('/mnt/iscsi2/OceanParcels/InputObsDom/random_latitude_10250.npy')\n",
    "random_longitudes=np.load('/mnt/iscsi2/OceanParcels/InputObsDom/random_longitude_10250.npy')\n",
    "\n",
    "# Number of locations\n",
    "n_locations = len(random_longitudes)\n",
    "\n",
    "# Starting time set at 18:00:00 of the 1st of April 1997 (half-hour dataset, 18*2)\n",
    "start_time = days100_from_april_1997_velocity_u_OK.time_counter[36].values\n",
    "\n",
    "# Hours of release of the particles (every day, for 29 days a set of particles is released every hour for 12 hours)\n",
    "release_hours = np.concatenate([np.arange(start, start + 12) for start in np.arange(0, 24*29, 24)])\n",
    "total_particles_per_location = len(release_hours)\n",
    "total_particles = n_locations * total_particles_per_location\n",
    "\n",
    "# Times when a set of particles is released (pay attention to the format of the time,\n",
    "    # because since this variable will be in the ParticleSet, only this specific format is valid)\n",
    "release_times = np.tile(release_hours, n_locations) * timedelta(hours=1).total_seconds()\n",
    "release_times = start_time + release_times.astype('timedelta64[s]')\n",
    "\n",
    "# All the longitudes and latitudes of releasing\n",
    "lon = np.repeat(random_longitudes, total_particles_per_location)\n",
    "lat = np.repeat(random_latitudes, total_particles_per_location)"
   ]
  },
  {
   "cell_type": "markdown",
   "metadata": {},
   "source": [
    "### ParticleSet"
   ]
  },
  {
   "cell_type": "code",
   "execution_count": 22,
   "metadata": {},
   "outputs": [
    {
     "name": "stdout",
     "output_type": "stream",
     "text": [
      "  0%|          | 0/8553600.0 [05:34<?, ?it/s]\n",
      "  0%|          | 0/8553600.0 [02:30<?, ?it/s]\n",
      "INFO: Output files are stored in /mnt/iscsi2/OceanParcels/resultsObsDom/April98_100days.zarr.\n",
      "  0%|          | 16200.0/8553600.0 [00:05<47:26, 2999.44it/s]"
     ]
    },
    {
     "ename": "KeyboardInterrupt",
     "evalue": "",
     "output_type": "error",
     "traceback": [
      "\u001b[0;31m---------------------------------------------------------------------------\u001b[0m",
      "\u001b[0;31mKeyboardInterrupt\u001b[0m                         Traceback (most recent call last)",
      "\u001b[1;32m/home/sciascia/Master_thesis-main/TanzaniaScrip_OBS/OBS_Simulations.ipynb Cell 16\u001b[0m line \u001b[0;36m1\n\u001b[1;32m     <a href='vscode-notebook-cell://ssh-remote%2Bpiscopia/home/sciascia/Master_thesis-main/TanzaniaScrip_OBS/OBS_Simulations.ipynb#X21sdnNjb2RlLXJlbW90ZQ%3D%3D?line=9'>10</a>\u001b[0m output_file \u001b[39m=\u001b[39m pset\u001b[39m.\u001b[39mParticleFile(name\u001b[39m=\u001b[39m\u001b[39m\"\u001b[39m\u001b[39m/mnt/iscsi2/OceanParcels/resultsObsDom/April98_100days.zarr\u001b[39m\u001b[39m\"\u001b[39m,\n\u001b[1;32m     <a href='vscode-notebook-cell://ssh-remote%2Bpiscopia/home/sciascia/Master_thesis-main/TanzaniaScrip_OBS/OBS_Simulations.ipynb#X21sdnNjb2RlLXJlbW90ZQ%3D%3D?line=10'>11</a>\u001b[0m                                 outputdt\u001b[39m=\u001b[39mtimedelta(hours\u001b[39m=\u001b[39m\u001b[39m1\u001b[39m))\n\u001b[1;32m     <a href='vscode-notebook-cell://ssh-remote%2Bpiscopia/home/sciascia/Master_thesis-main/TanzaniaScrip_OBS/OBS_Simulations.ipynb#X21sdnNjb2RlLXJlbW90ZQ%3D%3D?line=12'>13</a>\u001b[0m \u001b[39m# Execute the particle set for 99 days\u001b[39;00m\n\u001b[0;32m---> <a href='vscode-notebook-cell://ssh-remote%2Bpiscopia/home/sciascia/Master_thesis-main/TanzaniaScrip_OBS/OBS_Simulations.ipynb#X21sdnNjb2RlLXJlbW90ZQ%3D%3D?line=13'>14</a>\u001b[0m pset\u001b[39m.\u001b[39;49mexecute([AdvectionRK4, DeleteParticle], \n\u001b[1;32m     <a href='vscode-notebook-cell://ssh-remote%2Bpiscopia/home/sciascia/Master_thesis-main/TanzaniaScrip_OBS/OBS_Simulations.ipynb#X21sdnNjb2RlLXJlbW90ZQ%3D%3D?line=14'>15</a>\u001b[0m              runtime\u001b[39m=\u001b[39;49mtimedelta(days\u001b[39m=\u001b[39;49m\u001b[39m99\u001b[39;49m),  \u001b[39m# Total runtime of 99 days\u001b[39;49;00m\n\u001b[1;32m     <a href='vscode-notebook-cell://ssh-remote%2Bpiscopia/home/sciascia/Master_thesis-main/TanzaniaScrip_OBS/OBS_Simulations.ipynb#X21sdnNjb2RlLXJlbW90ZQ%3D%3D?line=15'>16</a>\u001b[0m              dt\u001b[39m=\u001b[39;49mtimedelta(minutes\u001b[39m=\u001b[39;49m\u001b[39m30\u001b[39;49m),\n\u001b[1;32m     <a href='vscode-notebook-cell://ssh-remote%2Bpiscopia/home/sciascia/Master_thesis-main/TanzaniaScrip_OBS/OBS_Simulations.ipynb#X21sdnNjb2RlLXJlbW90ZQ%3D%3D?line=16'>17</a>\u001b[0m              output_file\u001b[39m=\u001b[39;49moutput_file)\n",
      "File \u001b[0;32m/opt/anaconda3/envs/ModellingEnv/lib/python3.10/site-packages/parcels/particleset.py:1171\u001b[0m, in \u001b[0;36mParticleSet.execute\u001b[0;34m(self, pyfunc, pyfunc_inter, endtime, runtime, dt, output_file, verbose_progress, postIterationCallbacks, callbackdt, delete_cfiles)\u001b[0m\n\u001b[1;32m   1169\u001b[0m \u001b[39m# If we don't perform interaction, only execute the normal kernel efficiently.\u001b[39;00m\n\u001b[1;32m   1170\u001b[0m \u001b[39mif\u001b[39;00m \u001b[39mself\u001b[39m\u001b[39m.\u001b[39m_interaction_kernel \u001b[39mis\u001b[39;00m \u001b[39mNone\u001b[39;00m:\n\u001b[0;32m-> 1171\u001b[0m     res \u001b[39m=\u001b[39m \u001b[39mself\u001b[39;49m\u001b[39m.\u001b[39;49m_kernel\u001b[39m.\u001b[39;49mexecute(\u001b[39mself\u001b[39;49m, endtime\u001b[39m=\u001b[39;49mnext_time, dt\u001b[39m=\u001b[39;49mdt)\n\u001b[1;32m   1172\u001b[0m     \u001b[39mif\u001b[39;00m res \u001b[39m==\u001b[39m StatusCode\u001b[39m.\u001b[39mStopAllExecution:\n\u001b[1;32m   1173\u001b[0m         \u001b[39mreturn\u001b[39;00m StatusCode\u001b[39m.\u001b[39mStopAllExecution\n",
      "File \u001b[0;32m/opt/anaconda3/envs/ModellingEnv/lib/python3.10/site-packages/parcels/kernel.py:665\u001b[0m, in \u001b[0;36mKernel.execute\u001b[0;34m(self, pset, endtime, dt)\u001b[0m\n\u001b[1;32m    662\u001b[0m     \u001b[39mself\u001b[39m\u001b[39m.\u001b[39mexecute_python(pset, endtime, dt)\n\u001b[1;32m    664\u001b[0m \u001b[39m# Remove all particles that signalled deletion\u001b[39;00m\n\u001b[0;32m--> 665\u001b[0m \u001b[39mself\u001b[39;49m\u001b[39m.\u001b[39;49mremove_deleted(pset)\n\u001b[1;32m    667\u001b[0m \u001b[39m# Identify particles that threw errors\u001b[39;00m\n\u001b[1;32m    668\u001b[0m n_error \u001b[39m=\u001b[39m pset\u001b[39m.\u001b[39m_num_error_particles\n",
      "File \u001b[0;32m/opt/anaconda3/envs/ModellingEnv/lib/python3.10/site-packages/parcels/kernel.py:139\u001b[0m, in \u001b[0;36mBaseKernel.remove_deleted\u001b[0;34m(self, pset)\u001b[0m\n\u001b[1;32m    137\u001b[0m \u001b[39mif\u001b[39;00m \u001b[39mlen\u001b[39m(indices) \u001b[39m>\u001b[39m \u001b[39m0\u001b[39m \u001b[39mand\u001b[39;00m \u001b[39mself\u001b[39m\u001b[39m.\u001b[39mfieldset\u001b[39m.\u001b[39mparticlefile \u001b[39mis\u001b[39;00m \u001b[39mnot\u001b[39;00m \u001b[39mNone\u001b[39;00m:\n\u001b[1;32m    138\u001b[0m     \u001b[39mself\u001b[39m\u001b[39m.\u001b[39mfieldset\u001b[39m.\u001b[39mparticlefile\u001b[39m.\u001b[39mwrite(pset, \u001b[39mNone\u001b[39;00m, indices\u001b[39m=\u001b[39mindices)\n\u001b[0;32m--> 139\u001b[0m pset\u001b[39m.\u001b[39;49mremove_indices(indices)\n",
      "File \u001b[0;32m/opt/anaconda3/envs/ModellingEnv/lib/python3.10/site-packages/parcels/particleset.py:452\u001b[0m, in \u001b[0;36mParticleSet.remove_indices\u001b[0;34m(self, indices)\u001b[0m\n\u001b[1;32m    450\u001b[0m     \u001b[39mself\u001b[39m\u001b[39m.\u001b[39mparticledata\u001b[39m.\u001b[39mremove_single_by_index(indices)\n\u001b[1;32m    451\u001b[0m \u001b[39melse\u001b[39;00m:\n\u001b[0;32m--> 452\u001b[0m     \u001b[39mself\u001b[39;49m\u001b[39m.\u001b[39;49mparticledata\u001b[39m.\u001b[39;49mremove_multi_by_indices(indices)\n",
      "File \u001b[0;32m/opt/anaconda3/envs/ModellingEnv/lib/python3.10/site-packages/parcels/particledata.py:334\u001b[0m, in \u001b[0;36mParticleData.remove_multi_by_indices\u001b[0;34m(self, indices)\u001b[0m\n\u001b[1;32m    331\u001b[0m     indices \u001b[39m=\u001b[39m \u001b[39mlist\u001b[39m(indices\u001b[39m.\u001b[39mvalues())\n\u001b[1;32m    333\u001b[0m \u001b[39mfor\u001b[39;00m d \u001b[39min\u001b[39;00m \u001b[39mself\u001b[39m\u001b[39m.\u001b[39m_data:\n\u001b[0;32m--> 334\u001b[0m     \u001b[39mself\u001b[39m\u001b[39m.\u001b[39m_data[d] \u001b[39m=\u001b[39m np\u001b[39m.\u001b[39;49mdelete(\u001b[39mself\u001b[39;49m\u001b[39m.\u001b[39;49m_data[d], indices, axis\u001b[39m=\u001b[39;49m\u001b[39m0\u001b[39;49m)\n\u001b[1;32m    336\u001b[0m \u001b[39mself\u001b[39m\u001b[39m.\u001b[39m_ncount \u001b[39m-\u001b[39m\u001b[39m=\u001b[39m \u001b[39mlen\u001b[39m(indices)\n",
      "File \u001b[0;32m<__array_function__ internals>:180\u001b[0m, in \u001b[0;36mdelete\u001b[0;34m(*args, **kwargs)\u001b[0m\n",
      "File \u001b[0;32m/opt/anaconda3/envs/ModellingEnv/lib/python3.10/site-packages/numpy/lib/function_base.py:5133\u001b[0m, in \u001b[0;36mdelete\u001b[0;34m(arr, obj, axis)\u001b[0m\n\u001b[1;32m   5130\u001b[0m     slobj[axis] \u001b[39m=\u001b[39m keep\n\u001b[1;32m   5131\u001b[0m     new \u001b[39m=\u001b[39m arr[\u001b[39mtuple\u001b[39m(slobj)]\n\u001b[0;32m-> 5133\u001b[0m \u001b[39mif\u001b[39;00m wrap:\n\u001b[1;32m   5134\u001b[0m     \u001b[39mreturn\u001b[39;00m wrap(new)\n\u001b[1;32m   5135\u001b[0m \u001b[39melse\u001b[39;00m:\n",
      "\u001b[0;31mKeyboardInterrupt\u001b[0m: "
     ]
    },
    {
     "name": "stdout",
     "output_type": "stream",
     "text": [
      "  0%|          | 16200.0/8553600.0 [00:17<47:26, 2999.44it/s]"
     ]
    }
   ],
   "source": [
    "# Create the ParticleSet\n",
    "pset = ParticleSet(fieldset=fieldset,\n",
    "                   pclass=JITParticle,\n",
    "                   lon=lon,\n",
    "                   lat=lat,\n",
    "                   time=release_times\n",
    "                  )\n",
    "\n",
    "# Create an output file\n",
    "output_file = pset.ParticleFile(name=\"/mnt/iscsi2/OceanParcels/resultsObsDom/April97_100days.zarr\",\n",
    "                                outputdt=timedelta(hours=1))\n",
    "\n",
    "# Execute the particle set for 99 days\n",
    "pset.execute([AdvectionRK4, DeleteParticle], \n",
    "             runtime=timedelta(days=99),  # Total runtime of 99 days\n",
    "             dt=timedelta(minutes=30),\n",
    "             output_file=output_file)"
   ]
  },
  {
   "cell_type": "markdown",
   "metadata": {},
   "source": [
    "Following \"from_nemo\" method. It's possible to use different methods."
   ]
  },
  {
   "cell_type": "code",
   "execution_count": null,
   "metadata": {},
   "outputs": [],
   "source": [
    "filenames = {\n",
    "    \"U\": {\"lon\": mesh_mask, \"lat\": mesh_mask, \"data\": ufiles},\n",
    "    \"V\": {\"lon\": mesh_mask, \"lat\": mesh_mask, \"data\": vfiles},\n",
    "}\n",
    "\n",
    "variables = {\"U\": \"u_surf\", \"V\": \"v_surf\"}\n",
    "\n",
    "dimensions = {\n",
    "    \"U\": {\"lon\": \"lon_psi\", \"lat\": \"lat_psi\", \"time\": \"time_counter\"},\n",
    "    \"V\": {\"lon\": \"lon_psi\", \"lat\": \"lat_psi\", \"time\": \"time_counter\"},\n",
    "}\n",
    "\n",
    "fieldset = FieldSet.from_nemo(filenames, variables, dimensions, netcdf_decodewarning=False)"
   ]
  },
  {
   "cell_type": "markdown",
   "metadata": {},
   "source": [
    "### Avoiding errors close to boundaries"
   ]
  },
  {
   "cell_type": "markdown",
   "metadata": {},
   "source": [
    "To tell Parcels that particles that leave the domain need to be deleted, it's convenient to use a Recovery Kernel, which will be invoked when a particle encounters an ErrorOutOfBounds error, as suggested by Erik van Sebille (https://github.com/OceanParcels/parcels/discussions/1086#discussioncomment-1457212) and in a way similar to this tutorial: https://docs.oceanparcels.org/en/latest/examples/tutorial_kernelloop.html#Working-with-Status-Codes"
   ]
  },
  {
   "cell_type": "code",
   "execution_count": null,
   "metadata": {},
   "outputs": [],
   "source": [
    "def DeleteParticle(particle, fieldset, time):\n",
    "    if particle.state == StatusCode.ErrorOutOfBounds:\n",
    "        particle.delete()"
   ]
  }
 ],
 "metadata": {
  "language_info": {
   "name": "python"
  }
 },
 "nbformat": 4,
 "nbformat_minor": 2
}
